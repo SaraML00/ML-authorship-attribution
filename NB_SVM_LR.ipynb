{
  "cells": [
    {
      "cell_type": "code",
      "execution_count": null,
      "metadata": {
        "colab": {
          "base_uri": "https://localhost:8080/"
        },
        "id": "zDYu11k2b5K2",
        "outputId": "56495c57-9427-4650-b5f6-145703469394"
      },
      "outputs": [
        {
          "name": "stderr",
          "output_type": "stream",
          "text": [
            "[nltk_data] Downloading package stopwords to /root/nltk_data...\n",
            "[nltk_data]   Unzipping corpora/stopwords.zip.\n"
          ]
        }
      ],
      "source": [
        "import pandas as pd\n",
        "import re\n",
        "import spacy\n",
        "from sklearn.model_selection import train_test_split\n",
        "from sklearn.feature_extraction.text import CountVectorizer, TfidfVectorizer\n",
        "from sklearn.pipeline import Pipeline\n",
        "from sklearn.naive_bayes import MultinomialNB\n",
        "#from sklearn.tree import DecisionTreeClassifier\n",
        "#from sklearn.ensemble import RandomForestClassifier\n",
        "from sklearn.svm import LinearSVC\n",
        "from sklearn.linear_model import LogisticRegression\n",
        "from sklearn.metrics import accuracy_score, confusion_matrix\n",
        "import nltk                         # Natural Language Toolkit\n",
        "nltk.download('stopwords')          # Download stopwords data\n",
        "from nltk.corpus import stopwords  # Stopwords corpus for text processing\n",
        "from nltk.stem import SnowballStemmer  # Snowball stemming algorithm for text processing\n",
        "from nltk.tokenize import RegexpTokenizer\n",
        "from nltk.stem import WordNetLemmatizer,PorterStemmer\n",
        "\n"
      ]
    },
    {
      "cell_type": "code",
      "execution_count": null,
      "metadata": {
        "colab": {
          "base_uri": "https://localhost:8080/"
        },
        "id": "cZUMyWPscann",
        "outputId": "1a02bea9-0935-426a-fb1e-58372806319f"
      },
      "outputs": [
        {
          "name": "stdout",
          "output_type": "stream",
          "text": [
            "Cloning into 'AuthorIdentification'...\n",
            "remote: Enumerating objects: 112, done.\u001b[K\n",
            "remote: Total 112 (delta 0), reused 0 (delta 0), pack-reused 112\u001b[K\n",
            "Receiving objects: 100% (112/112), 17.55 MiB | 5.42 MiB/s, done.\n",
            "Resolving deltas: 100% (38/38), done.\n"
          ]
        }
      ],
      "source": [
        "# Load spaCy English model\n",
        "nlp = spacy.load(\"en_core_web_sm\")\n",
        "\n",
        "# Clone the dataset repository from GitHub\n",
        "!git clone https://github.com/chanchalIITP/AuthorIdentification.git\n",
        "# Load the dataset from GitHub\n",
        "files_path = r'/content/AuthorIdentification/Dataset/Dataset_with_varying_number_of_tweets/1000_tweets_per_user.csv'\n",
        "# Read the dataset from a CSV file\n",
        "dataset = pd.read_csv(files_path)"
      ]
    },
    {
      "cell_type": "code",
      "execution_count": null,
      "metadata": {
        "id": "5tEBkn7YcbNE"
      },
      "outputs": [],
      "source": [
        "dataset.rename(columns={'0': 'Text',\n",
        "                   '1': 'Author'},\n",
        "          inplace=True, errors='raise')"
      ]
    },
    {
      "cell_type": "code",
      "execution_count": null,
      "metadata": {
        "colab": {
          "base_uri": "https://localhost:8080/"
        },
        "id": "1Ny5Q6DvcfJO",
        "outputId": "394b9369-d479-4bce-8a51-8cb23bf52c3d"
      },
      "outputs": [
        {
          "name": "stdout",
          "output_type": "stream",
          "text": [
            "Author\n",
            "61771813     1000\n",
            "35662913     1000\n",
            "24546595     1000\n",
            "64995168     1000\n",
            "24882874     1000\n",
            "34873480     1000\n",
            "47123216     1000\n",
            "54163968     1000\n",
            "35047348     1000\n",
            "15300331     1000\n",
            "17515820     1000\n",
            "69596571     1000\n",
            "24476282     1000\n",
            "29541331     1000\n",
            "48752834     1000\n",
            "90464628     1000\n",
            "76736193     1000\n",
            "71472524     1000\n",
            "94729807     1000\n",
            "17866869     1000\n",
            "47716990     1000\n",
            "39947845     1000\n",
            "16496165     1000\n",
            "51964081     1000\n",
            "110714732    1000\n",
            "44711166     1000\n",
            "23184632     1000\n",
            "113900779    1000\n",
            "21163181     1000\n",
            "29256466     1000\n",
            "71166537     1000\n",
            "17925141     1000\n",
            "65886278     1000\n",
            "90078731     1000\n",
            "27521888     1000\n",
            "29155146     1000\n",
            "15401533     1000\n",
            "39563785     1000\n",
            "35261530     1000\n",
            "53353788     1000\n",
            "23539738     1000\n",
            "18123064     1000\n",
            "49986051     1000\n",
            "29130903     1000\n",
            "74333956     1000\n",
            "88845190     1000\n",
            "19961531     1000\n",
            "56117318     1000\n",
            "22280964     1000\n",
            "63611401     1000\n",
            "Name: count, dtype: int64\n"
          ]
        }
      ],
      "source": [
        "class_counts = dataset['Author'].value_counts()\n",
        "print(class_counts)"
      ]
    },
    {
      "cell_type": "code",
      "execution_count": null,
      "metadata": {
        "id": "9TZ9zG4scjls"
      },
      "outputs": [],
      "source": [
        "# Define the number of samples to select from each class\n",
        "num_samples = 900\n",
        "\n",
        "# Get the unique class labels in the dataframe\n",
        "unique_classes = dataset['Author'].unique()\n",
        "\n",
        "# Create an empty list to store the sampled rows\n",
        "sampled_rows = []\n",
        "\n",
        "# For each unique class, randomly sample the desired number of rows\n",
        "for cls in unique_classes:\n",
        "    rows = dataset.loc[dataset['Author'] == cls]\n",
        "    sampled = rows.sample(n=num_samples, replace=True, random_state=123)\n",
        "    sampled_rows.append(sampled)\n",
        "\n",
        "# Combine the sampled rows into a new dataframe\n",
        "df_sampled = pd.concat(sampled_rows)\n",
        "\n",
        "# Display the sampled dataframe\n",
        "dataset=df_sampled"
      ]
    },
    {
      "cell_type": "code",
      "execution_count": null,
      "metadata": {
        "colab": {
          "background_save": true,
          "base_uri": "https://localhost:8080/"
        },
        "id": "7jnm4NK1coFa",
        "outputId": "b4d16601-2192-42d6-b823-161d40b368b8"
      },
      "outputs": [
        {
          "name": "stderr",
          "output_type": "stream",
          "text": [
            "[nltk_data] Downloading package wordnet to /root/nltk_data...\n"
          ]
        },
        {
          "name": "stdout",
          "output_type": "stream",
          "text": [
            "Confusion Matrix for Naive Bayes with BoW:\n",
            "[[150   0   0 ...   0   0   1]\n",
            " [  0 163   0 ...   4   0   0]\n",
            " [  0   0 122 ...   0   5   0]\n",
            " ...\n",
            " [  0   0   0 ... 147   0   0]\n",
            " [  0   0   0 ...   0 173   0]\n",
            " [  0   0   0 ...   0   0 206]]\n",
            "Confusion Matrix for Naive Bayes with TF-IDF:\n",
            "[[157   0   0 ...   0   0   1]\n",
            " [  0 158   0 ...   4   0   0]\n",
            " [  0   0 121 ...   0   3   0]\n",
            " ...\n",
            " [  0   0   0 ... 145   0   0]\n",
            " [  0   0   0 ...   0 173   0]\n",
            " [  0   0   0 ...   0   0 206]]\n",
            "Confusion Matrix for Naive Bayes with Ngram (1,2):\n",
            "[[157   0   0 ...   0   0   1]\n",
            " [  0 163   1 ...   3   0   0]\n",
            " [  1   1 127 ...   0   2   0]\n",
            " ...\n",
            " [  0   0   0 ... 148   1   0]\n",
            " [  0   0   0 ...   0 173   0]\n",
            " [  0   0   0 ...   0   0 206]]\n",
            "Confusion Matrix for Naive Bayes with Combined (TF-IDF + N-gram (1, 4)):\n",
            "[[160   0   0 ...   0   0   1]\n",
            " [  0 159   1 ...   4   0   0]\n",
            " [  1   0 132 ...   0   2   0]\n",
            " ...\n",
            " [  0   0   0 ... 148   1   0]\n",
            " [  0   0   0 ...   0 173   0]\n",
            " [  0   0   0 ...   0   0 206]]\n",
            "Confusion Matrix for Linear SVM with BoW:\n",
            "[[164   0   0 ...   0   0   0]\n",
            " [  1 171   0 ...   0   0   0]\n",
            " [  1   0 150 ...   0   0   0]\n",
            " ...\n",
            " [  0   0   0 ... 150   0   0]\n",
            " [  0   0   0 ...   0 173   0]\n",
            " [  0   0   0 ...   0   0 206]]\n",
            "Confusion Matrix for Linear SVM with TF-IDF:\n",
            "[[164   0   0 ...   0   0   0]\n",
            " [  0 175   0 ...   0   0   0]\n",
            " [  1   0 155 ...   0   0   0]\n",
            " ...\n",
            " [  0   0   0 ... 149   0   0]\n",
            " [  0   0   0 ...   0 173   0]\n",
            " [  0   0   0 ...   0   0 206]]\n",
            "Confusion Matrix for Linear SVM with Ngram (1,2):\n",
            "[[164   0   0 ...   0   0   0]\n",
            " [  0 172   0 ...   0   0   0]\n",
            " [  0   0 147 ...   0   0   0]\n",
            " ...\n",
            " [  0   0   0 ... 150   0   0]\n",
            " [  0   0   0 ...   0 173   0]\n",
            " [  0   0   0 ...   0   0 206]]\n",
            "Confusion Matrix for Linear SVM with Combined (TF-IDF + N-gram (1, 4)):\n",
            "[[161   0   0 ...   0   0   0]\n",
            " [  0 175   0 ...   0   0   0]\n",
            " [  1   0 143 ...   0   0   0]\n",
            " ...\n",
            " [  0   0   0 ... 148   0   0]\n",
            " [  0   0   0 ...   0 173   0]\n",
            " [  0   0   0 ...   0   0 206]]\n"
          ]
        },
        {
          "name": "stderr",
          "output_type": "stream",
          "text": [
            "/usr/local/lib/python3.10/dist-packages/sklearn/linear_model/_logistic.py:458: ConvergenceWarning: lbfgs failed to converge (status=1):\n",
            "STOP: TOTAL NO. of ITERATIONS REACHED LIMIT.\n",
            "\n",
            "Increase the number of iterations (max_iter) or scale the data as shown in:\n",
            "    https://scikit-learn.org/stable/modules/preprocessing.html\n",
            "Please also refer to the documentation for alternative solver options:\n",
            "    https://scikit-learn.org/stable/modules/linear_model.html#logistic-regression\n",
            "  n_iter_i = _check_optimize_result(\n"
          ]
        },
        {
          "name": "stdout",
          "output_type": "stream",
          "text": [
            "Confusion Matrix for Logistic Regression with BoW:\n",
            "[[159   0   0 ...   0   0   0]\n",
            " [  0 174   0 ...   0   0   0]\n",
            " [  2   2 139 ...   0   0   0]\n",
            " ...\n",
            " [  0   0   0 ... 147   0   0]\n",
            " [  0   0   0 ...   0 173   0]\n",
            " [  0   0   0 ...   0   0 206]]\n"
          ]
        },
        {
          "name": "stderr",
          "output_type": "stream",
          "text": [
            "/usr/local/lib/python3.10/dist-packages/sklearn/linear_model/_logistic.py:458: ConvergenceWarning: lbfgs failed to converge (status=1):\n",
            "STOP: TOTAL NO. of ITERATIONS REACHED LIMIT.\n",
            "\n",
            "Increase the number of iterations (max_iter) or scale the data as shown in:\n",
            "    https://scikit-learn.org/stable/modules/preprocessing.html\n",
            "Please also refer to the documentation for alternative solver options:\n",
            "    https://scikit-learn.org/stable/modules/linear_model.html#logistic-regression\n",
            "  n_iter_i = _check_optimize_result(\n"
          ]
        },
        {
          "name": "stdout",
          "output_type": "stream",
          "text": [
            "Confusion Matrix for Logistic Regression with TF-IDF:\n",
            "[[155   0   0 ...   0   0   0]\n",
            " [  0 174   0 ...   0   0   0]\n",
            " [  1   2 139 ...   0   0   0]\n",
            " ...\n",
            " [  0   0   0 ... 146   0   0]\n",
            " [  0   0   0 ...   0 173   0]\n",
            " [  0   0   0 ...   0   0 206]]\n"
          ]
        },
        {
          "name": "stderr",
          "output_type": "stream",
          "text": [
            "/usr/local/lib/python3.10/dist-packages/sklearn/linear_model/_logistic.py:458: ConvergenceWarning: lbfgs failed to converge (status=1):\n",
            "STOP: TOTAL NO. of ITERATIONS REACHED LIMIT.\n",
            "\n",
            "Increase the number of iterations (max_iter) or scale the data as shown in:\n",
            "    https://scikit-learn.org/stable/modules/preprocessing.html\n",
            "Please also refer to the documentation for alternative solver options:\n",
            "    https://scikit-learn.org/stable/modules/linear_model.html#logistic-regression\n",
            "  n_iter_i = _check_optimize_result(\n"
          ]
        },
        {
          "name": "stdout",
          "output_type": "stream",
          "text": [
            "Confusion Matrix for Logistic Regression with Ngram (1,2):\n",
            "[[162   0   0 ...   0   0   0]\n",
            " [  0 175   0 ...   0   0   0]\n",
            " [  3   0 141 ...   0   0   0]\n",
            " ...\n",
            " [  0   0   0 ... 147   0   0]\n",
            " [  0   0   0 ...   0 173   0]\n",
            " [  0   0   0 ...   0   0 206]]\n"
          ]
        },
        {
          "name": "stderr",
          "output_type": "stream",
          "text": [
            "/usr/local/lib/python3.10/dist-packages/sklearn/linear_model/_logistic.py:458: ConvergenceWarning: lbfgs failed to converge (status=1):\n",
            "STOP: TOTAL NO. of ITERATIONS REACHED LIMIT.\n",
            "\n",
            "Increase the number of iterations (max_iter) or scale the data as shown in:\n",
            "    https://scikit-learn.org/stable/modules/preprocessing.html\n",
            "Please also refer to the documentation for alternative solver options:\n",
            "    https://scikit-learn.org/stable/modules/linear_model.html#logistic-regression\n",
            "  n_iter_i = _check_optimize_result(\n"
          ]
        },
        {
          "name": "stdout",
          "output_type": "stream",
          "text": [
            "Confusion Matrix for Logistic Regression with Combined (TF-IDF + N-gram (1, 4)):\n",
            "[[155   0   0 ...   0   0   0]\n",
            " [  0 174   0 ...   0   0   0]\n",
            " [  1   2 139 ...   0   0   0]\n",
            " ...\n",
            " [  0   0   0 ... 143   1   0]\n",
            " [  0   0   0 ...   0 173   0]\n",
            " [  0   0   0 ...   0   0 206]]\n",
            "\n",
            "Results Summary:\n",
            "             Classifier             Feature Representation  Accuracy\n",
            "0           Naive Bayes                                BoW  0.845556\n",
            "1           Naive Bayes                             TF-IDF  0.867889\n",
            "2           Naive Bayes                        Ngram (1,2)  0.866778\n",
            "3           Naive Bayes  Combined (TF-IDF + N-gram (1, 4))  0.882889\n",
            "4            Linear SVM                                BoW  0.909556\n",
            "5            Linear SVM                             TF-IDF  0.923444\n",
            "6            Linear SVM                        Ngram (1,2)  0.911111\n",
            "7            Linear SVM  Combined (TF-IDF + N-gram (1, 4))  0.906778\n",
            "8   Logistic Regression                                BoW  0.890111\n",
            "9   Logistic Regression                             TF-IDF  0.872222\n",
            "10  Logistic Regression                        Ngram (1,2)  0.890000\n",
            "11  Logistic Regression  Combined (TF-IDF + N-gram (1, 4))  0.867000\n"
          ]
        }
      ],
      "source": [
        "# Perform data preprocessing\n",
        "import nltk\n",
        "from nltk.tokenize import RegexpTokenizer\n",
        "from nltk.stem import WordNetLemmatizer,PorterStemmer\n",
        "from nltk.corpus import stopwords\n",
        "import re\n",
        "lemmatizer = WordNetLemmatizer()\n",
        "stemmer = PorterStemmer()\n",
        "nltk.download('wordnet')\n",
        "\n",
        "#def preprocess(sentence):\n",
        "  #sentence=str(sentence)\n",
        " # sentence = sentence.lower()\n",
        "  #sentence=sentence.replace('{html}',\"\")\n",
        "  #cleanr = re.compile('<.*?>#@')\n",
        "  #cleantext = re.sub(cleanr, '', sentence)\n",
        "  #rem_url=re.sub(r'http\\S+', '',cleantext)\n",
        "  #rem_num = re.sub('[0-9]+', '', rem_url)\n",
        "  #tokenizer = RegexpTokenizer(r'\\w+')\n",
        "  #tokens = tokenizer.tokenize(cleantext)\n",
        "  #filtered_words = [w for w in tokens if len(w) > 2 if not w in stopwords.words('english')]\n",
        "  #stem_words=[stemmer.stem(w) for w in filtered_words]\n",
        " # lemma_words=[lemmatizer.lemmatize(w) for w in stem_words]\n",
        " # return  sentence #\" \".join(filtered_words)\n",
        "\n",
        "def preprocess_text(text):\n",
        "    doc = nlp(text)\n",
        "    tokens = [token.lemma_ for token in doc if not token.is_stop]\n",
        "    return ' '.join(tokens)\n",
        "#Apply preprocessing to the dataset\n",
        "dataset['Text'] = dataset['Text'].apply(preprocess_text)\n",
        "\n",
        "# Split the dataset into features (content) and target variable (author)\n",
        "features = dataset['Text']\n",
        "target = dataset['Author']\n",
        "\n",
        "# Split the dataset into training and testing sets\n",
        "X_train, X_test, y_train, y_test = train_test_split(features, target, test_size=0.2, random_state=42)\n",
        "\n",
        "# Define a list to store the results\n",
        "results = []\n",
        "\n",
        "# Define a pipeline for each classifier with different vectorizers\n",
        "classifiers = [\n",
        "    ('Naive Bayes', [\n",
        "    ('BoW', CountVectorizer()),\n",
        "        ('TF-IDF', TfidfVectorizer()),\n",
        "        ('Ngram (1,2)', CountVectorizer(ngram_range=(1, 2))),\n",
        "        ('Combined (TF-IDF + N-gram (1, 4))',TfidfVectorizer(ngram_range=(1, 4))),\n",
        "     ], MultinomialNB()),\n",
        "\n",
        "    ('Linear SVM', [\n",
        "        ('BoW', CountVectorizer()),\n",
        "        ('TF-IDF', TfidfVectorizer()),\n",
        "        ('Ngram (1,2)', CountVectorizer(ngram_range=(1, 2))),\n",
        "        ('Combined (TF-IDF + N-gram (1, 4))',TfidfVectorizer(ngram_range=(1, 4))),\n",
        "    ], LinearSVC()),\n",
        "\n",
        "   ('Logistic Regression', [\n",
        "   ('BoW', CountVectorizer()),\n",
        "      ('TF-IDF', TfidfVectorizer()),\n",
        "        ('Ngram (1,2)', CountVectorizer(ngram_range=(1, 2))),\n",
        "        ('Combined (TF-IDF + N-gram (1, 4))',TfidfVectorizer(ngram_range=(1, 4))),\n",
        "    ], LogisticRegression())\n",
        "]\n",
        "\n",
        "\n",
        "# Train and evaluate each classifier with different vectorizers\n",
        "for name, vectorizers, classifier in classifiers:\n",
        "    for vectorizer_name, vectorizer in vectorizers:\n",
        "        # Define the pipeline for the classifier and vectorizer combination\n",
        "        pipeline = Pipeline([\n",
        "            ('vectorizer', vectorizer),\n",
        "            ('classifier', classifier)\n",
        "        ])\n",
        "\n",
        "\n",
        "           # Train the classifier\n",
        "        model = pipeline\n",
        "        model.fit(X_train, y_train)\n",
        "\n",
        "        # Predict the author for the test set\n",
        "        predictions = model.predict(X_test)\n",
        "\n",
        "        # Evaluate the accuracy of the model\n",
        "        accuracy = accuracy_score(y_test, predictions)\n",
        "\n",
        "        # Compute and print the confusion matrix\n",
        "        cm = confusion_matrix(y_test, predictions)\n",
        "        print(f\"Confusion Matrix for {name} with {vectorizer_name}:\\n{cm}\")\n",
        "\n",
        "        # Add the results to the list\n",
        "        results.append({'Classifier': name, 'Feature Representation': vectorizer_name, 'Accuracy': accuracy})\n",
        "\n",
        "# Create a DataFrame from the results list\n",
        "results_df = pd.DataFrame(results)\n",
        "\n",
        "# Display the summarized results\n",
        "print(\"\\nResults Summary:\")\n",
        "print(results_df)"
      ]
    },
    {
      "cell_type": "code",
      "execution_count": null,
      "metadata": {
        "colab": {
          "background_save": true
        },
        "id": "j8n7ToiNcr5e",
        "outputId": "956061c8-5974-4517-eda8-032cdcd10ff8"
      },
      "outputs": [
        {
          "data": {
            "image/png": "[encoded data removed]",
            "text/plain": [
              "<Figure size 800x400 with 1 Axes>"
            ]
          },
          "metadata": {},
          "output_type": "display_data"
        }
      ],
      "source": [
        "import matplotlib.pyplot as plt\n",
        "# Create a pivot table for plotting\n",
        "pivot_table = results_df.pivot_table(columns='Feature Representation', index='Classifier', values='Accuracy')\n",
        "\n",
        "# Plot\n",
        "pivot_table.plot(kind='bar', figsize=(8, 4))\n",
        "plt.title('Accuracy by Classifier and Feature Representation')\n",
        "plt.xlabel('Feature Representation')\n",
        "plt.ylabel('Accuracy')\n",
        "plt.xticks(rotation=45)\n",
        "plt.legend(title='Classifier', bbox_to_anchor=(1.05, 1), loc='upper left')\n",
        "plt.tight_layout()\n",
        "\n",
        "# Show the plot\n",
        "plt.show()\n",
        "\n"
      ]
    },
    {
      "cell_type": "code",
      "execution_count": null,
      "metadata": {
        "colab": {
          "background_save": true
        },
        "id": "H6OmKF3fcycl"
      },
      "outputs": [],
      "source": [
        "# Saving and loading models\n",
        "import pickle                           # For saving and loading models\n",
        "from keras.models import load_model     # For loading saved Keras models\n",
        "pickle.dump(classifier, open(\"MLmodel.pkl\", \"wb\"))"
      ]
    }
  ],
  "metadata": {
    "colab": {
      "provenance": []
    },
    "kernelspec": {
      "display_name": "Python 3",
      "name": "python3"
    },
    "language_info": {
      "name": "python"
    }
  },
  "nbformat": 4,
  "nbformat_minor": 0
}